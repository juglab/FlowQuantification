{
 "cells": [
  {
   "cell_type": "code",
   "execution_count": 1,
   "metadata": {},
   "outputs": [],
   "source": [
    "# import ipdb\n",
    "import numpy as np\n",
    "import numpy.linalg as nl\n",
    "import matplotlib.pyplot as plt\n",
    "from scipy.spatial.distance import pdist, cdist, squareform"
   ]
  },
  {
   "cell_type": "code",
   "execution_count": 2,
   "metadata": {
    "collapsed": true
   },
   "outputs": [],
   "source": [
    "def makeT(cp):\n",
    "    # cp: [K x 2] control points\n",
    "    # T: [(K+3) x (K+3)]\n",
    "    K = cp.shape[0]\n",
    "    T = np.zeros((K+3, K+3))\n",
    "    T[:K, 0] = 1\n",
    "    T[:K, 1:3] = cp\n",
    "    T[K, 3:] = 1\n",
    "    T[K+1:, 3:] = cp.T\n",
    "    R = squareform(pdist(cp, metric='euclidean'))\n",
    "    R = R * R\n",
    "    R[R == 0] = 1 # a trick to make R ln(R) 0\n",
    "    R = R * np.log(R)\n",
    "    np.fill_diagonal(R, 0)\n",
    "    T[:K, 3:] = R\n",
    "    return T"
   ]
  },
  {
   "cell_type": "code",
   "execution_count": 3,
   "metadata": {
    "collapsed": true
   },
   "outputs": [],
   "source": [
    "def liftPts(p, cp):\n",
    "    # p: [N x 2], input points\n",
    "    # cp: [K x 2], control points\n",
    "    # pLift: [N x (3+K)], lifted input points\n",
    "    N, K = p.shape[0], cp.shape[0]\n",
    "    pLift = np.zeros((N, K+3))\n",
    "    pLift[:,0] = 1\n",
    "    pLift[:,1:3] = p\n",
    "    R = cdist(p, cp, 'euclidean')\n",
    "    R = R * R\n",
    "    R[R == 0] = 1\n",
    "    R = R * np.log(R)\n",
    "    pLift[:,3:] = R\n",
    "    return pLift"
   ]
  },
  {
   "cell_type": "code",
   "execution_count": 4,
   "metadata": {},
   "outputs": [],
   "source": [
    "# source control points\n",
    "x, y = np.linspace(-1, 1, 3), np.linspace(-1, 1, 3)\n",
    "x, y = np.meshgrid(x, y)\n",
    "xs = x.flatten()\n",
    "ys = y.flatten()\n",
    "cps = np.vstack([xs, ys]).T\n",
    "\n"
   ]
  },
  {
   "cell_type": "code",
   "execution_count": 5,
   "metadata": {},
   "outputs": [
    {
     "name": "stdout",
     "output_type": "stream",
     "text": [
      "[[-1. -1.]\n",
      " [ 0. -1.]\n",
      " [ 1. -1.]\n",
      " [-1.  0.]\n",
      " [ 0.  0.]\n",
      " [ 1.  0.]\n",
      " [-1.  1.]\n",
      " [ 0.  1.]\n",
      " [ 1.  1.]]\n"
     ]
    }
   ],
   "source": [
    "print(cps)"
   ]
  },
  {
   "cell_type": "code",
   "execution_count": 12,
   "metadata": {
    "collapsed": true
   },
   "outputs": [],
   "source": [
    "# target control points\n",
    "xt = xs + np.random.uniform(-0.3, 0.3, size=xs.size)\n",
    "yt = ys + np.random.uniform(-0.3, 0.3, size=ys.size)"
   ]
  },
  {
   "cell_type": "code",
   "execution_count": 13,
   "metadata": {},
   "outputs": [
    {
     "name": "stdout",
     "output_type": "stream",
     "text": [
      "[-1.16760366 -0.15417488  1.20574112 -0.89080529 -0.21031661  0.94412678\n",
      " -0.95401002  0.16829553  0.83673127]\n"
     ]
    }
   ],
   "source": [
    "print(xt)"
   ]
  },
  {
   "cell_type": "code",
   "execution_count": 7,
   "metadata": {
    "collapsed": true
   },
   "outputs": [],
   "source": [
    "# construct T\n",
    "T = makeT(cps)"
   ]
  },
  {
   "cell_type": "code",
   "execution_count": 8,
   "metadata": {
    "collapsed": true
   },
   "outputs": [],
   "source": [
    "# solve cx, cy (coefficients for x and y)\n",
    "xtAug = np.concatenate([xt, np.zeros(3)])\n",
    "ytAug = np.concatenate([yt, np.zeros(3)])\n",
    "cx = nl.solve(T, xtAug) # [K+3]\n",
    "cy = nl.solve(T, ytAug)"
   ]
  },
  {
   "cell_type": "code",
   "execution_count": 9,
   "metadata": {
    "collapsed": true
   },
   "outputs": [],
   "source": [
    "# dense grid\n",
    "N = 30\n",
    "x = np.linspace(-2, 2, N)\n",
    "y = np.linspace(-2, 2, N)\n",
    "x, y = np.meshgrid(x, y)\n",
    "xgs, ygs = x.flatten(), y.flatten()\n",
    "gps = np.vstack([xgs, ygs]).T"
   ]
  },
  {
   "cell_type": "code",
   "execution_count": 14,
   "metadata": {},
   "outputs": [
    {
     "name": "stdout",
     "output_type": "stream",
     "text": [
      "[[-2.         -2.        ]\n",
      " [-1.86206897 -2.        ]\n",
      " [-1.72413793 -2.        ]\n",
      " ..., \n",
      " [ 1.72413793  2.        ]\n",
      " [ 1.86206897  2.        ]\n",
      " [ 2.          2.        ]]\n"
     ]
    }
   ],
   "source": [
    "print(gps)"
   ]
  },
  {
   "cell_type": "code",
   "execution_count": 10,
   "metadata": {
    "collapsed": true
   },
   "outputs": [],
   "source": [
    "# transform\n",
    "pgLift = liftPts(gps, cps) # [N x (K+3)]\n",
    "xgt = np.dot(pgLift, cx.T)\n",
    "ygt = np.dot(pgLift, cy.T)"
   ]
  },
  {
   "cell_type": "code",
   "execution_count": 11,
   "metadata": {},
   "outputs": [
    {
     "data": {
      "image/png": "[encoded data removed]",
      "text/plain": [
       "<matplotlib.figure.Figure at 0x10ba58128>"
      ]
     },
     "metadata": {},
     "output_type": "display_data"
    }
   ],
   "source": [
    "# display\n",
    "plt.xlim(-2.5, 2.5)\n",
    "plt.ylim(-2.5, 2.5)\n",
    "plt.subplot(1, 2, 1)\n",
    "plt.title('Source')\n",
    "plt.grid()\n",
    "plt.scatter(xs, ys, marker='+', c='r', s=40)\n",
    "plt.scatter(xgs, ygs, marker='.', c='r', s=5)\n",
    "plt.subplot(1, 2, 2)\n",
    "plt.title('Target')\n",
    "plt.grid()\n",
    "plt.scatter(xt, yt, marker='+', c='b', s=40)\n",
    "plt.scatter(xgt, ygt, marker='.', c='b', s=5)\n",
    "plt.show()"
   ]
  },
  {
   "cell_type": "code",
   "execution_count": null,
   "metadata": {
    "collapsed": true
   },
   "outputs": [],
   "source": []
  }
 ],
 "metadata": {
  "kernelspec": {
   "display_name": "Python 3",
   "language": "python",
   "name": "python3"
  },
  "language_info": {
   "codemirror_mode": {
    "name": "ipython",
    "version": 3
   },
   "file_extension": ".py",
   "mimetype": "text/x-python",
   "name": "python",
   "nbconvert_exporter": "python",
   "pygments_lexer": "ipython3",
   "version": "3.6.1"
  }
 },
 "nbformat": 4,
 "nbformat_minor": 2
}
